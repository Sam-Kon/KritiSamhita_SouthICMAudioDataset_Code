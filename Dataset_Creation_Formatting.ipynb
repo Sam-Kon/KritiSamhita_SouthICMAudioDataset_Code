{
  "nbformat": 4,
  "nbformat_minor": 0,
  "metadata": {
    "colab": {
      "provenance": [],
      "authorship_tag": "ABX9TyNgT6SKBK59eFgh4ugISCIa",
      "include_colab_link": true
    },
    "kernelspec": {
      "name": "python3",
      "display_name": "Python 3"
    },
    "language_info": {
      "name": "python"
    }
  },
  "cells": [
    {
      "cell_type": "markdown",
      "metadata": {
        "id": "view-in-github",
        "colab_type": "text"
      },
      "source": [
        "<a href=\"https://colab.research.google.com/github/Sam-Kon/SouthICMAudioDataset_Code/blob/main/Dataset_Creation_Formatting.ipynb\" target=\"_parent\"><img src=\"https://colab.research.google.com/assets/colab-badge.svg\" alt=\"Open In Colab\"/></a>"
      ]
    },
    {
      "cell_type": "markdown",
      "source": [
        "Necessary imports"
      ],
      "metadata": {
        "id": "olu1HaUB616f"
      }
    },
    {
      "cell_type": "code",
      "source": [
        "# mount Google Drive to access audio files\n",
        "import os\n",
        "import pandas as pd\n",
        "from google.colab import drive\n",
        "drive.mount('/content/drive')\n",
        "# Installing the 'pydub' library for song segmentation\n",
        "# https://pydub.com/\n",
        "!pip install pydub\n",
        "# Importing this function from pydub\n",
        "from pydub import AudioSegment"
      ],
      "metadata": {
        "id": "BPO3Kt3IljGJ"
      },
      "execution_count": null,
      "outputs": []
    },
    {
      "cell_type": "markdown",
      "source": [
        "Audio Segmentation"
      ],
      "metadata": {
        "id": "KvNnzrQUFtKD"
      }
    },
    {
      "cell_type": "code",
      "source": [
        "contents_file = pd.DataFrame(columns=['File_Name', 'Tonic'])\n",
        "# contents_file will contain all names of audio snippets with their tonic annotations"
      ],
      "metadata": {
        "id": "rqr2V49ZjHIC"
      },
      "execution_count": null,
      "outputs": []
    },
    {
      "cell_type": "markdown",
      "source": [
        "F#"
      ],
      "metadata": {
        "id": "3Zrn9WCwpHV3"
      }
    },
    {
      "cell_type": "code",
      "source": [
        "# get a list of all songs recorded in F#\n",
        "directory_path = '/content/drive/MyDrive/SongsDataset/F#/'\n",
        "directory_files = os.listdir(directory_path)\n",
        "\n",
        "# for each song recorded\n",
        "for song in directory_files:\n",
        "  # read from the mp3 file\n",
        "  sound = AudioSegment.from_mp3(\"drive/MyDrive/SongsDataset/F#/{}\".format(song))\n",
        "  # spliting audio files\n",
        "  # dur is the duration\n",
        "  dur = len(sound)\n",
        "  # pydub does things in miliseconds\n",
        "  # rem is the length of the last snippet (i.e. whatever doesn't go into 20 sec snippets)\n",
        "  rem = dur%(20000)\n",
        "  # n is how many 20-sec snippets we'll get\n",
        "  n = (dur-rem)/20000\n",
        "  count=-1\n",
        "  # count keeps track of how many chunks we've done\n",
        "  for i in range(0,20000*(int(n)),20000):\n",
        "    count+=1\n",
        "    output_file = \"/content/drive/MyDrive/Carnatic_Dataset_Snippets/F#/{}_F#_chunk{}.mp3\".format(song.replace('.mp3', ''),count)\n",
        "    contents_file.loc[len(contents_file.index)] = ['Carnatic_Dataset_Snippets/F#/{}_F#_chunk{}.mp3'.format(song.replace('.mp3',''),count),'F#3 Scale (4.5 Kattai)']\n",
        "    print(\"Exporting file\", output_file)\n",
        "    sound[i:(i+(20*1000))].export(output_file, format=\"mp3\")\n",
        "  # snippet files saved as Output\n",
        "  if rem != 0:\n",
        "    output_file = \"/content/drive/MyDrive/Carnatic_Dataset_Snippets/F#/{}_F#_chunk{}.mp3\".format(song.replace('.mp3', ''),count+1)\n",
        "    contents_file.loc[len(contents_file.index)] = ['Carnatic_Dataset_Snippets/F#/{}_F#_chunk{}.mp3'.format(song.replace('.mp3',''),count+1),'F#3 Scale (4.5 Kattai)']\n",
        "    print(\"Exporting file\", output_file)\n",
        "    sound[-rem:].export(output_file, format=\"mp3\")\n",
        "    # export last seconds"
      ],
      "metadata": {
        "id": "BwEOuAsDlOEh"
      },
      "execution_count": null,
      "outputs": []
    },
    {
      "cell_type": "markdown",
      "source": [
        "G"
      ],
      "metadata": {
        "id": "xuLbj491pKvU"
      }
    },
    {
      "cell_type": "code",
      "source": [
        "# get a list of all songs recorded in G\n",
        "directory_path = '/content/drive/MyDrive/SongsDataset/G/'\n",
        "directory_files = os.listdir(directory_path)\n",
        "\n",
        "# for each song recorded\n",
        "for song in directory_files:\n",
        "  # read from the mp3 file\n",
        "  sound = AudioSegment.from_mp3(\"drive/MyDrive/SongsDataset/G/{}\".format(song))\n",
        "  # spliting audio files\n",
        "  # dur is the duration\n",
        "  dur = len(sound)\n",
        "  # pydub does things in miliseconds\n",
        "  # rem is the length of the last snippet (i.e. whatever doesn't go into 20 sec snippets)\n",
        "  rem = dur%(20000)\n",
        "  # n is how many 20-sec snippets we'll get\n",
        "  n = (dur-rem)/20000\n",
        "  count=-1\n",
        "  # count keeps track of how many chunks we've done\n",
        "  for i in range(0,20000*(int(n)),20000):\n",
        "    count+=1\n",
        "    output_file = \"/content/drive/MyDrive/Carnatic_Dataset_Snippets/G/{}_G_chunk{}.mp3\".format(song.replace('.mp3', ''),count)\n",
        "    contents_file.loc[len(contents_file.index)] = ['Carnatic_Dataset_Snippets/G/{}_G_chunk{}.mp3'.format(song.replace('.mp3',''),count),'G3 Scale (5 Kattai)']\n",
        "    print(\"Exporting file\", output_file)\n",
        "    sound[i:(i+(20*1000))].export(output_file, format=\"mp3\")\n",
        "  # snippet files saved as Output\n",
        "  if rem != 0:\n",
        "    output_file = \"/content/drive/MyDrive/Carnatic_Dataset_Snippets/G/{}_G_chunk{}.mp3\".format(song.replace('.mp3', ''),count+1)\n",
        "    contents_file.loc[len(contents_file.index)] = ['Carnatic_Dataset_Snippets/G/{}_G_chunk{}.mp3'.format(song.replace('.mp3',''),count+1),'G3 Scale (5 Kattai)']\n",
        "    print(\"Exporting file\", output_file)\n",
        "    sound[-rem:].export(output_file, format=\"mp3\")\n",
        "    # export last seconds"
      ],
      "metadata": {
        "id": "6jofVHAipKMi"
      },
      "execution_count": null,
      "outputs": []
    },
    {
      "cell_type": "markdown",
      "source": [
        "G#"
      ],
      "metadata": {
        "id": "8rDEPP-_pQ4S"
      }
    },
    {
      "cell_type": "code",
      "source": [
        "# get a list of all songs recorded in G#\n",
        "directory_path = '/content/drive/MyDrive/SongsDataset/G#/'\n",
        "directory_files = os.listdir(directory_path)\n",
        "\n",
        "# for each song recorded\n",
        "for song in directory_files:\n",
        "  # read from the mp3 file\n",
        "  sound = AudioSegment.from_mp3(\"drive/MyDrive/SongsDataset/G#/{}\".format(song))\n",
        "  # spliting audio files\n",
        "  # dur is the duration\n",
        "  dur = len(sound)\n",
        "  # pydub does things in miliseconds\n",
        "  # rem is the length of the last snippet (i.e. whatever doesn't go into 20 sec snippets)\n",
        "  rem = dur%(20000)\n",
        "  # n is how many 20-sec snippets we'll get\n",
        "  n = (dur-rem)/20000\n",
        "  count=-1\n",
        "  # count keeps track of how many chunks we've done\n",
        "  for i in range(0,20000*(int(n)),20000):\n",
        "    count+=1\n",
        "    output_file = \"/content/drive/MyDrive/Carnatic_Dataset_Snippets/G#/{}_G#_chunk{}.mp3\".format(song.replace('.mp3', ''),count)\n",
        "    contents_file.loc[len(contents_file.index)] = ['Carnatic_Dataset_Snippets/G#/{}_G#_chunk{}.mp3'.format(song.replace('.mp3',''),count),'G#3 Scale (5.5 Kattai)']\n",
        "    print(\"Exporting file\", output_file)\n",
        "    sound[i:(i+(20*1000))].export(output_file, format=\"mp3\")\n",
        "  # snippet files saved as Output\n",
        "  if rem != 0:\n",
        "    if song != \"Ninnu Kori (1).mp3\": # for this song only, the last few seconds are just silence, so a snippet of this is unnecessary\n",
        "      output_file = \"/content/drive/MyDrive/Carnatic_Dataset_Snippets/G#/{}_G#_chunk{}.mp3\".format(song.replace('.mp3', ''),count+1)\n",
        "      contents_file.loc[len(contents_file.index)] = ['Carnatic_Dataset_Snippets/G#/{}_G#_chunk{}.mp3'.format(song.replace('.mp3',''),count+1),'G#3 Scale (5.5 Kattai)']\n",
        "      print(\"Exporting file\", output_file)\n",
        "      sound[-rem:].export(output_file, format=\"mp3\")\n",
        "      # export last seconds"
      ],
      "metadata": {
        "id": "RwWD2TJqpQIu"
      },
      "execution_count": null,
      "outputs": []
    },
    {
      "cell_type": "markdown",
      "source": [
        "A"
      ],
      "metadata": {
        "id": "VAT8tWjiDO8X"
      }
    },
    {
      "cell_type": "code",
      "source": [
        "# get a list of all songs recorded in A\n",
        "directory_path = '/content/drive/MyDrive/SongsDataset/A/'\n",
        "directory_files = os.listdir(directory_path)\n",
        "\n",
        "# for each song recorded\n",
        "for song in directory_files:\n",
        "  # read from the mp3 file\n",
        "  sound = AudioSegment.from_mp3(\"drive/MyDrive/SongsDataset/A/{}\".format(song))\n",
        "  # spliting audio files\n",
        "  # dur is the duration\n",
        "  dur = len(sound)\n",
        "  # pydub does things in miliseconds\n",
        "  # rem is the length of the last snippet (i.e. whatever doesn't go into 20 sec snippets)\n",
        "  rem = dur%(20000)\n",
        "  # n is how many 20-sec snippets we'll get\n",
        "  n = (dur-rem)/20000\n",
        "  count=-1\n",
        "  # count keeps track of how many chunks we've done\n",
        "  for i in range(0,20000*(int(n)),20000):\n",
        "    count+=1\n",
        "    output_file = \"/content/drive/MyDrive/Carnatic_Dataset_Snippets/A/{}_A_chunk{}.mp3\".format(song.replace('.mp3', ''),count)\n",
        "    contents_file.loc[len(contents_file.index)] = ['Carnatic_Dataset_Snippets/A/{}_A_chunk{}.mp3'.format(song.replace('.mp3',''),count),'A3 Scale (6 Kattai)']\n",
        "    print(\"Exporting file\", output_file)\n",
        "    sound[i:(i+(20*1000))].export(output_file, format=\"mp3\")\n",
        "  # snippet files saved as Output\n",
        "  if rem != 0:\n",
        "    output_file = \"/content/drive/MyDrive/Carnatic_Dataset_Snippets/A/{}_A_chunk{}.mp3\".format(song.replace('.mp3', ''),count+1)\n",
        "    contents_file.loc[len(contents_file.index)] = ['Carnatic_Dataset_Snippets/A/{}_A_chunk{}.mp3'.format(song.replace('.mp3',''),count+1),'A3 Scale (6 Kattai)']\n",
        "    print(\"Exporting file\", output_file)\n",
        "    sound[-rem:].export(output_file, format=\"mp3\")\n",
        "    # export last seconds"
      ],
      "metadata": {
        "id": "GXFRk2dODQlT"
      },
      "execution_count": null,
      "outputs": []
    },
    {
      "cell_type": "markdown",
      "source": [
        "Export csv"
      ],
      "metadata": {
        "id": "hFH3r1bVm6pK"
      }
    },
    {
      "cell_type": "code",
      "source": [
        "contents_file.to_csv('drive/MyDrive/Carnatic_Dataset.csv')"
      ],
      "metadata": {
        "id": "GNF9XgV1m5tR"
      },
      "execution_count": null,
      "outputs": []
    }
  ]
}